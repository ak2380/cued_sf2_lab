{
 "cells": [
  {
   "cell_type": "code",
   "execution_count": 1,
   "metadata": {},
   "outputs": [],
   "source": [
    "import numpy as np\n",
    "import matplotlib.pyplot as plt\n",
    "import IPython.display\n",
    "from scipy.ndimage import zoom\n",
    "from scipy.optimize import minimize_scalar\n",
    "from cued_sf2_lab.familiarisation import load_mat_img, plot_image"
   ]
  },
  {
   "cell_type": "code",
   "execution_count": 2,
   "metadata": {},
   "outputs": [],
   "source": [
    "lighthouse, _ = load_mat_img(img='lighthouse.mat', img_info='X')\n",
    "bridge, _ = load_mat_img(img='bridge.mat', img_info='X')\n",
    "flamingo, _ = load_mat_img(img='flamingo.mat', img_info='X')\n",
    "lena, _ = load_mat_img(img='lena.mat', img_info='image')\n",
    "peppers, _ = load_mat_img(img='peppers.mat', img_info='image')\n",
    "columbia, _ = load_mat_img(img='columbia.mat', img_info='image')\n",
    "camera, _ = load_mat_img(img='camera.mat', img_info='image')\n",
    "lake, _ = load_mat_img(img='lake.mat', img_info='image')\n",
    "baboon, _ = load_mat_img(img='baboon.mat', img_info='image')\n",
    "couple, _ = load_mat_img(img='couple.mat', img_info='image')\n",
    "plane, _ = load_mat_img(img='plane.mat', img_info='image')\n",
    "peppers = zoom(peppers, 256/512)\n",
    "columbia = zoom(columbia, 256/480)\n",
    "lena = zoom(lena, 256/512)\n",
    "baboon = zoom(baboon, 256/512)\n",
    "plane = zoom(plane, 256/512)\n",
    "lake = zoom(lake, 256/512)\n",
    "couple = zoom(couple, 256/512)"
   ]
  },
  {
   "cell_type": "code",
   "execution_count": 3,
   "metadata": {},
   "outputs": [],
   "source": [
    "lighthouse = lighthouse - 128.0\n",
    "flamingo = flamingo - 128.0\n",
    "bridge = bridge - 128.0\n",
    "lena = lena - 128.0\n",
    "peppers = peppers - 128.0\n",
    "columbia = columbia - 128.0\n",
    "camera = camera - 128.0\n",
    "baboon = baboon - 128.0\n",
    "plane = plane - 128.0\n",
    "lake = lake - 128.0\n",
    "couple = couple - 128.0"
   ]
  },
  {
   "cell_type": "code",
   "execution_count": 4,
   "metadata": {},
   "outputs": [],
   "source": [
    "image = bridge\n",
    "target_bits = 40960"
   ]
  },
  {
   "cell_type": "code",
   "execution_count": 5,
   "metadata": {},
   "outputs": [],
   "source": [
    "from skimage.metrics import structural_similarity as ssim_comp\n",
    "import sewar\n",
    "\n",
    "# Structural Similarity Index (SSIM)\n",
    "def ssim_index(imageA, imageB):\n",
    "    return ssim_comp(imageA, imageB, multichannel=True)\n",
    "\n",
    "# Visual Information Fidelity\n",
    "def vif_index(imageA, imageB):\n",
    "    return sewar.full_ref.vifp(imageA, imageB)"
   ]
  },
  {
   "cell_type": "code",
   "execution_count": 6,
   "metadata": {},
   "outputs": [],
   "source": [
    "from cued_sf2_lab.jpeg_lbt_2_arith import jpegenc_lbt2_arith, jpegdec_lbt2_arith, objective_function_lbt2"
   ]
  },
  {
   "cell_type": "code",
   "execution_count": 7,
   "metadata": {},
   "outputs": [
    {
     "name": "stdout",
     "output_type": "stream",
     "text": [
      "Length of VLC after encoding: 14855\n",
      "Length of VLC after encoding: 6992\n",
      "Length of VLC after encoding: 27764\n",
      "Length of VLC after encoding: 10253\n",
      "Length of VLC after encoding: 10292\n",
      "Length of VLC after encoding: 11435\n",
      "Length of VLC after encoding: 12554\n",
      "Length of VLC after encoding: 10979\n",
      "Length of VLC after encoding: 11573\n",
      "Length of VLC after encoding: 11309\n",
      "Length of VLC after encoding: 11159\n",
      "Length of VLC after encoding: 11330\n",
      "Length of VLC after encoding: 11255\n",
      "Length of VLC after encoding: 11303\n",
      "Length of VLC after encoding: 11288\n",
      "Length of VLC after encoding: 11264\n",
      "Length of VLC after encoding: 11288\n",
      "Length of VLC after encoding: 11288\n",
      "Length of VLC after encoding: 11288\n",
      "Length of VLC after encoding: 11288\n",
      "Length of VLC after encoding: 11288\n",
      "Length of VLC after encoding: 11288\n",
      "Length of VLC after encoding: 11288\n",
      "Length of VLC after encoding: 11288\n",
      "Length of VLC after encoding: 11288\n",
      "Length of VLC after encoding: 11288\n",
      "Length of VLC after encoding: 11288\n",
      "Length of VLC after encoding: 11288\n",
      "Length of VLC after encoding: 11288\n",
      "Length of VLC after encoding: 11288\n",
      "Length of VLC after encoding: 11288\n",
      "Forward 4 x 4 LBT\n",
      "Second 4 x 4 LBT on low-pass image\n",
      "Performing frequency dependent quantisation with overall step size of 46.139215164771585\n",
      "Coding rows\n",
      "Length of VLC after encoding: 11288\n",
      "40970\n",
      "Length of VLC during decoding: 168\n",
      "Decoding rows\n"
     ]
    },
    {
     "ename": "ValueError",
     "evalue": "The bits for the DC coefficient do not agree with vlc table",
     "output_type": "error",
     "traceback": [
      "\u001b[0;31m---------------------------------------------------------------------------\u001b[0m",
      "\u001b[0;31mValueError\u001b[0m                                Traceback (most recent call last)",
      "Cell \u001b[0;32mIn[7], line 9\u001b[0m\n\u001b[1;32m      7\u001b[0m encoded_bits, totalbits \u001b[38;5;241m=\u001b[39m jpegenc_lbt2_arith(image, step, fdq, N, M)\n\u001b[1;32m      8\u001b[0m \u001b[38;5;28mprint\u001b[39m(totalbits)\n\u001b[0;32m----> 9\u001b[0m Z \u001b[38;5;241m=\u001b[39m \u001b[43mjpegdec_lbt2_arith\u001b[49m\u001b[43m(\u001b[49m\u001b[43mencoded_bits\u001b[49m\u001b[43m,\u001b[49m\u001b[43m \u001b[49m\u001b[43mstep\u001b[49m\u001b[43m,\u001b[49m\u001b[43m \u001b[49m\u001b[43mfdq\u001b[49m\u001b[43m,\u001b[49m\u001b[43m \u001b[49m\u001b[43mN\u001b[49m\u001b[43m,\u001b[49m\u001b[43m \u001b[49m\u001b[43mM\u001b[49m\u001b[43m)\u001b[49m\n\u001b[1;32m     10\u001b[0m fig, ax \u001b[38;5;241m=\u001b[39m plt\u001b[38;5;241m.\u001b[39msubplots()\n\u001b[1;32m     11\u001b[0m plot_image(Z, ax\u001b[38;5;241m=\u001b[39max);\n",
      "File \u001b[0;32m/workspaces/cued_sf2_lab/cued_sf2_lab/jpeg_lbt_2_arith.py:360\u001b[0m, in \u001b[0;36mjpegdec_lbt2_arith\u001b[0;34m(encoded_bits, qstep, fdq, N, M, dcbits, W, H, log)\u001b[0m\n\u001b[1;32m    358\u001b[0m cf \u001b[38;5;241m=\u001b[39m \u001b[38;5;241m0\u001b[39m\n\u001b[1;32m    359\u001b[0m \u001b[38;5;28;01mif\u001b[39;00m vlc[i] \u001b[38;5;241m!=\u001b[39m dcbits:\n\u001b[0;32m--> 360\u001b[0m     \u001b[38;5;28;01mraise\u001b[39;00m \u001b[38;5;167;01mValueError\u001b[39;00m(\u001b[38;5;124m'\u001b[39m\u001b[38;5;124mThe bits for the DC coefficient do not agree with vlc table\u001b[39m\u001b[38;5;124m'\u001b[39m)\n\u001b[1;32m    361\u001b[0m yq[cf] \u001b[38;5;241m=\u001b[39m vlc[i] \u001b[38;5;241m-\u001b[39m \u001b[38;5;241m2\u001b[39m \u001b[38;5;241m*\u001b[39m\u001b[38;5;241m*\u001b[39m (dcbits \u001b[38;5;241m-\u001b[39m \u001b[38;5;241m1\u001b[39m)\n\u001b[1;32m    362\u001b[0m i \u001b[38;5;241m+\u001b[39m\u001b[38;5;241m=\u001b[39m \u001b[38;5;241m1\u001b[39m\n",
      "\u001b[0;31mValueError\u001b[0m: The bits for the DC coefficient do not agree with vlc table"
     ]
    }
   ],
   "source": [
    "N=4\n",
    "M=16\n",
    "fdq=True\n",
    "\n",
    "step = minimize_scalar(objective_function_lbt2, bounds=(0, 100), args=(image, target_bits, fdq, N, M), method='bounded').x\n",
    "\n",
    "encoded_bits, totalbits = jpegenc_lbt2_arith(image, step, fdq, N, M)\n",
    "print(totalbits)\n",
    "Z = jpegdec_lbt2_arith(encoded_bits, step, fdq, N, M)\n",
    "fig, ax = plt.subplots()\n",
    "plot_image(Z, ax=ax);"
   ]
  }
 ],
 "metadata": {
  "kernelspec": {
   "display_name": "Python 3",
   "language": "python",
   "name": "python3"
  },
  "language_info": {
   "codemirror_mode": {
    "name": "ipython",
    "version": 3
   },
   "file_extension": ".py",
   "mimetype": "text/x-python",
   "name": "python",
   "nbconvert_exporter": "python",
   "pygments_lexer": "ipython3",
   "version": "3.10.13"
  }
 },
 "nbformat": 4,
 "nbformat_minor": 2
}
